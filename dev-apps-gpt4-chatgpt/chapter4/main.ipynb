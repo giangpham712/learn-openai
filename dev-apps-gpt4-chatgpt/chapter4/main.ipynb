{
 "cells": [
  {
   "cell_type": "markdown",
   "source": [
    "# 4. Advanced GPT-4 And ChatGPT Techniques"
   ],
   "metadata": {
    "collapsed": false
   },
   "id": "e9c97bf43f5ba3a2"
  },
  {
   "cell_type": "code",
   "outputs": [],
   "source": [
    "import settings\n",
    "import openai\n",
    "import pandas as pd"
   ],
   "metadata": {
    "collapsed": false,
    "ExecuteTime": {
     "end_time": "2024-01-07T02:17:07.177048700Z",
     "start_time": "2024-01-07T02:17:06.348550800Z"
    }
   },
   "id": "5a85cf78de010d83",
   "execution_count": 2
  },
  {
   "cell_type": "markdown",
   "source": [
    "## Fine-Tuning with the OpenAI API"
   ],
   "metadata": {
    "collapsed": false
   },
   "id": "db9e3d2f664770a6"
  },
  {
   "cell_type": "markdown",
   "source": [
    "### Uploading a new file"
   ],
   "metadata": {
    "collapsed": false
   },
   "id": "cffd49c9f2adbb7a"
  },
  {
   "cell_type": "code",
   "outputs": [],
   "source": [
    "ft_file = openai.files.create(\n",
    "    file=open(\"files/out_openai_completion_prepared.jsonl\", \"rb\"),\n",
    "    purpose=\"fine-tune\"\n",
    ")"
   ],
   "metadata": {
    "collapsed": false,
    "ExecuteTime": {
     "end_time": "2024-01-07T02:44:54.395461500Z",
     "start_time": "2024-01-07T02:44:53.005961500Z"
    }
   },
   "id": "92472f960028372c",
   "execution_count": 13
  },
  {
   "cell_type": "code",
   "outputs": [],
   "source": [
    "openai.fine_tunes.create(\n",
    "    training_file=ft_file.id,\n",
    "    model=\"davinci\",\n",
    "    suffix=\"direct_marketing\"\n",
    ")"
   ],
   "metadata": {
    "collapsed": false
   },
   "id": "c0b227e1e4b4dc18",
   "execution_count": null
  },
  {
   "cell_type": "code",
   "outputs": [
    {
     "name": "stdout",
     "output_type": "stream",
     "text": [
      "SyncPage[FineTune](data=[FineTune(id='ft-rELqGCDP2fLeRKOzjrMZoWcX', created_at=1704595520, fine_tuned_model='davinci:ft-personal:direct-marketing-2024-01-07-02-51-27', hyperparams=Hyperparams(batch_size=1, learning_rate_multiplier=0.1, n_epochs=4, prompt_loss_weight=0.01, classification_n_classes=None, classification_positive_class=None, compute_classification_metrics=None), model='davinci', object='fine-tune', organization_id='org-kzSPykuhYsOfIvA9MVG4LOU8', result_files=[FileObject(id='file-misMpvuJ5Bg606ZFP2eCg0kD', bytes=35537, created_at=1704595889, filename='compiled_results.csv', object='file', purpose='fine-tune-results', status='processed', status_details=None)], status='succeeded', training_files=[FileObject(id='file-B0RRlOAlj4xLrqP0YHvLBpNC', bytes=77420, created_at=1704595518, filename='out_openai_completion_prepared.jsonl', object='file', purpose='fine-tune', status='processed', status_details=None)], updated_at=1704595889, validation_files=[], events=None), FineTune(id='ft-DIBJlQA3mSqHQCcLm0ehCqrT', created_at=1704595541, fine_tuned_model='davinci:ft-personal:direct-marketing-2024-01-07-02-57-25', hyperparams=Hyperparams(batch_size=1, learning_rate_multiplier=0.1, n_epochs=4, prompt_loss_weight=0.01, classification_n_classes=None, classification_positive_class=None, compute_classification_metrics=None), model='davinci', object='fine-tune', organization_id='org-kzSPykuhYsOfIvA9MVG4LOU8', result_files=[FileObject(id='file-ypXJHmonrt5jViaW5iJRLGT4', bytes=35567, created_at=1704596247, filename='compiled_results.csv', object='file', purpose='fine-tune-results', status='processed', status_details=None)], status='succeeded', training_files=[FileObject(id='file-B0RRlOAlj4xLrqP0YHvLBpNC', bytes=77420, created_at=1704595518, filename='out_openai_completion_prepared.jsonl', object='file', purpose='fine-tune', status='processed', status_details=None)], updated_at=1704596248, validation_files=[], events=None)], object='list', next_starting_after=None)\n"
     ]
    }
   ],
   "source": [
    "fts = openai.fine_tunes.list()\n",
    "print(fts)"
   ],
   "metadata": {
    "collapsed": false,
    "ExecuteTime": {
     "end_time": "2024-01-07T03:01:51.001463200Z",
     "start_time": "2024-01-07T03:01:50.695973800Z"
    }
   },
   "id": "a83037f1aad89b64",
   "execution_count": 19
  },
  {
   "cell_type": "markdown",
   "source": [
    "### Creating a fine-tuned model"
   ],
   "metadata": {
    "collapsed": false
   },
   "id": "fbc4c351707a1e20"
  },
  {
   "cell_type": "code",
   "outputs": [],
   "source": [
    "def chat_completion(prompt, model=\"gpt-4\", temperature=0):\n",
    "    res = openai.chat.completions.create(\n",
    "        model=model,\n",
    "        messages=[{\"role\": \"user\", \"content\": prompt}],\n",
    "        temperature=temperature,\n",
    "    )\n",
    "    return res.choices[0].message.content\n",
    "    "
   ],
   "metadata": {
    "collapsed": false,
    "ExecuteTime": {
     "end_time": "2024-01-07T02:29:23.567785400Z",
     "start_time": "2024-01-07T02:29:23.561785800Z"
    }
   },
   "id": "ebb54fe554eb177d",
   "execution_count": 9
  },
  {
   "cell_type": "code",
   "outputs": [],
   "source": [
    "l_sector = ['Grocery Stores', 'Restaurants', 'Fast Food Restaurants', 'Pharmacies', 'Service Stations (Fuel)', 'Electronics Stores']\n",
    "l_city = ['Brussels', 'Paris', 'Berlin']\n",
    "l_size = ['small', 'medium', 'large']\n",
    "\n",
    "\n",
    "f_prompt = \"\"\" \n",
    "Role: You are an expert content writer with extensive direct marketing \n",
    "experience. You have strong writing skills, creativity, adaptability to \n",
    "different tones and styles, and a deep understanding of audience needs and\n",
    "preferences for effective direct campaigns.\n",
    "Context: You have to write a short message in no more than 2 sentences for a\n",
    "direct marketing campaign to sell a new e-commerce payment service to stores. \n",
    "The target stores have the following three characteristics:\n",
    "- The sector of activity: {sector}\n",
    "- The city where the stores are located: {city} \n",
    "- The size of the stores: {size}\n",
    "Task: Write a short message for the direct marketing campaign. Use the skills\n",
    "defined in your role to write this message! It is important that the message\n",
    "you create takes into account the product you are selling and the\n",
    "characteristics of the store you are writing to.\n",
    "\"\"\"\n",
    "\n",
    "f_sub_prompt = \"{sector}, {city}, {size}\"\n",
    "\n",
    "\n",
    "df = pd.DataFrame()\n",
    "for sector in l_sector:\n",
    "    for city in l_city:\n",
    "        for size in l_size:\n",
    "            for i in range(3): \n",
    "                prompt = f_prompt.format(sector=sector, city=city, size=size)\n",
    "                sub_prompt = f_sub_prompt.format(sector=sector, city=city, size=size)\n",
    "                response_txt = chat_completion(\n",
    "                    prompt, model=\"gpt-3.5-turbo\", temperature=1\n",
    "                )\n",
    "                new_row = {\"prompt\": sub_prompt, \"completion\": response_txt}\n",
    "                new_row = pd.DataFrame([new_row])\n",
    "                df = pd.concat([df, new_row], axis=0, ignore_index=True)\n",
    "\n",
    "df.to_csv(\"files/out_openai_completion.csv\",  index=False)"
   ],
   "metadata": {
    "collapsed": false
   },
   "id": "1d0cede56fe57396",
   "execution_count": null
  },
  {
   "cell_type": "markdown",
   "source": [
    "### Using the fine-tuned model"
   ],
   "metadata": {
    "collapsed": false
   },
   "id": "6158c870508b582"
  },
  {
   "cell_type": "code",
   "outputs": [],
   "source": [
    "openai.completions.create(\n",
    "    model=\"\",\n",
    "    prompt=\"Hotel, New York, small ->\",\n",
    "    max_tokens=100,\n",
    "    temperature=0,\n",
    "    stop=\"\\n\"\n",
    ")"
   ],
   "metadata": {
    "collapsed": false
   },
   "id": "17d75fcadfe5bcb8"
  }
 ],
 "metadata": {
  "kernelspec": {
   "display_name": "Python 3",
   "language": "python",
   "name": "python3"
  },
  "language_info": {
   "codemirror_mode": {
    "name": "ipython",
    "version": 2
   },
   "file_extension": ".py",
   "mimetype": "text/x-python",
   "name": "python",
   "nbconvert_exporter": "python",
   "pygments_lexer": "ipython2",
   "version": "2.7.6"
  }
 },
 "nbformat": 4,
 "nbformat_minor": 5
}
