{
 "cells": [
  {
   "cell_type": "markdown",
   "source": [
    "# 2. A Deep Dive Into The GPT-4 AND ChatGPT APIs"
   ],
   "metadata": {
    "collapsed": false
   },
   "id": "28b825b9bf48053a"
  },
  {
   "cell_type": "code",
   "execution_count": 4,
   "outputs": [],
   "source": [
    "import sys\n",
    "import settings\n",
    "from examples import hello_world, conversation, find_product, embeddings, moderation"
   ],
   "metadata": {
    "collapsed": false,
    "ExecuteTime": {
     "end_time": "2024-01-03T10:50:01.081026600Z",
     "start_time": "2024-01-03T10:50:01.076026300Z"
    }
   },
   "id": "3bd3c51aa2a14c68"
  },
  {
   "cell_type": "markdown",
   "source": [
    "## Moderation Model"
   ],
   "metadata": {
    "collapsed": false
   },
   "id": "3266700aa51b0130"
  },
  {
   "cell_type": "code",
   "execution_count": 2,
   "outputs": [
    {
     "name": "stdout",
     "output_type": "stream",
     "text": [
      "{\n",
      "  \"id\": \"modr-8crKMWgOUV38owbBhkLeC9Ws9C3zw\",\n",
      "  \"model\": \"text-moderation-006\",\n",
      "  \"results\": [\n",
      "    {\n",
      "      \"categories\": {\n",
      "        \"harassment\": false,\n",
      "        \"harassment_threatening\": false,\n",
      "        \"hate\": false,\n",
      "        \"hate_threatening\": false,\n",
      "        \"self_harm\": false,\n",
      "        \"self_harm_instructions\": false,\n",
      "        \"self_harm_intent\": false,\n",
      "        \"sexual\": false,\n",
      "        \"sexual_minors\": false,\n",
      "        \"violence\": true,\n",
      "        \"violence_graphic\": false,\n",
      "        \"self-harm\": false,\n",
      "        \"sexual/minors\": false,\n",
      "        \"hate/threatening\": false,\n",
      "        \"violence/graphic\": false,\n",
      "        \"self-harm/intent\": false,\n",
      "        \"self-harm/instructions\": false,\n",
      "        \"harassment/threatening\": false\n",
      "      },\n",
      "      \"category_scores\": {\n",
      "        \"harassment\": 0.13745909929275513,\n",
      "        \"harassment_threatening\": 0.1063726544380188,\n",
      "        \"hate\": 0.003557637333869934,\n",
      "        \"hate_threatening\": 0.00011633049871306866,\n",
      "        \"self_harm\": 2.2576385205752558e-8,\n",
      "        \"self_harm_instructions\": 8.648243660916086e-15,\n",
      "        \"self_harm_intent\": 1.8030380521949496e-9,\n",
      "        \"sexual\": 2.5361541133861465e-7,\n",
      "        \"sexual_minors\": 2.3567517715150643e-8,\n",
      "        \"violence\": 0.9807901382446289,\n",
      "        \"violence_graphic\": 1.5759509324198007e-6,\n",
      "        \"self-harm\": 2.2576385205752558e-8,\n",
      "        \"sexual/minors\": 2.3567517715150643e-8,\n",
      "        \"hate/threatening\": 0.00011633049871306866,\n",
      "        \"violence/graphic\": 1.5759509324198007e-6,\n",
      "        \"self-harm/intent\": 1.8030380521949496e-9,\n",
      "        \"self-harm/instructions\": 8.648243660916086e-15,\n",
      "        \"harassment/threatening\": 0.1063726544380188\n",
      "      },\n",
      "      \"flagged\": true\n",
      "    }\n",
      "  ]\n",
      "}\n"
     ]
    }
   ],
   "source": [
    "moderation.run()"
   ],
   "metadata": {
    "collapsed": false,
    "ExecuteTime": {
     "end_time": "2024-01-03T08:55:26.535859300Z",
     "start_time": "2024-01-03T08:55:25.653359100Z"
    }
   },
   "id": "b9ce61180b7ee8ae"
  }
 ],
 "metadata": {
  "kernelspec": {
   "display_name": "Python 3",
   "language": "python",
   "name": "python3"
  },
  "language_info": {
   "codemirror_mode": {
    "name": "ipython",
    "version": 2
   },
   "file_extension": ".py",
   "mimetype": "text/x-python",
   "name": "python",
   "nbconvert_exporter": "python",
   "pygments_lexer": "ipython2",
   "version": "2.7.6"
  }
 },
 "nbformat": 4,
 "nbformat_minor": 5
}
