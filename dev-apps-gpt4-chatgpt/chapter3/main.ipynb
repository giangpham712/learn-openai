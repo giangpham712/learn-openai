{
 "cells": [
  {
   "cell_type": "markdown",
   "source": [
    "# 3. Building Apps with GPT-4 and ChatGPT"
   ],
   "metadata": {
    "collapsed": false
   },
   "id": "6eb304516c0a8b21"
  },
  {
   "cell_type": "code",
   "execution_count": 4,
   "outputs": [],
   "source": [
    "import settings\n",
    "import openai"
   ],
   "metadata": {
    "collapsed": false,
    "ExecuteTime": {
     "end_time": "2024-01-05T03:12:37.610412300Z",
     "start_time": "2024-01-05T03:12:37.599911400Z"
    }
   },
   "id": "ddac61c25bdc01be"
  },
  {
   "cell_type": "markdown",
   "source": [
    "## Building a News Generator Solution"
   ],
   "metadata": {
    "collapsed": false
   },
   "id": "d2e338ef8b08ef2"
  },
  {
   "cell_type": "code",
   "execution_count": 5,
   "outputs": [
    {
     "name": "stdout",
     "output_type": "stream",
     "text": [
      "Hey there, fellow nature enthusiasts! Let's take a moment to appreciate the wonders of our world. Have you ever wondered why the sky is so beautifully blue? Well, it's all thanks to a little something called Rayleigh scattering. When sunlight reaches Earth's atmosphere, its short blue waves get scattered in all directions, making the sky appear blue to our eyes. And what about that lush green grass beneath our feet? The green color comes from chlorophyll, a pigment in plants that helps them capture sunlight for photosynthesis. So next time you're out and about, take a moment to marvel at the fact that our sky is blue and our grass is green. Nature truly is amazing!\n"
     ]
    }
   ],
   "source": [
    "from examples import news_generator\n",
    "print(\n",
    "    news_generator.assist_journalist(\n",
    "        [\"The sky is blue\", \"The grass is green\"], \"informal\", 100, \"blogpost\"\n",
    "    )\n",
    ")"
   ],
   "metadata": {
    "collapsed": false,
    "ExecuteTime": {
     "end_time": "2024-01-05T03:12:47.125211Z",
     "start_time": "2024-01-05T03:12:39.477912900Z"
    }
   },
   "id": "d912bf9c428dc4cc"
  },
  {
   "cell_type": "code",
   "execution_count": 8,
   "outputs": [
    {
     "name": "stdout",
     "output_type": "stream",
     "text": [
      "Exciting news! O'Reilly has just released an incredible book titled \"Developing Apps with GPT-4 and ChatGPT.\" This latest publication delves into the world of ChatGPT, offering readers insights into developing amazing applications. Make sure to grab a copy and explore the limitless potential of this groundbreaking technology!\n"
     ]
    }
   ],
   "source": [
    "print(\n",
    "    news_generator.assist_journalist(\n",
    "        facts=[\n",
    "            \"A book on ChatGPT has been published last week\",\n",
    "            \"The title is Developing Apps with GPT-4 and ChatGPT\",\n",
    "            \"The publisher is O'Reilly.\",\n",
    "        ],\n",
    "        tone=\"excited\",\n",
    "        length_words=50,\n",
    "        style=\"news flash\",\n",
    "    )\n",
    ")"
   ],
   "metadata": {
    "collapsed": false,
    "ExecuteTime": {
     "end_time": "2024-01-04T06:33:16.796419200Z",
     "start_time": "2024-01-04T06:33:13.208827100Z"
    }
   },
   "id": "fe857cf37cc84498"
  },
  {
   "cell_type": "markdown",
   "source": [
    "## Summarizing YouTube Videos"
   ],
   "metadata": {
    "collapsed": false
   },
   "id": "c7550fc2de26d768"
  },
  {
   "cell_type": "code",
   "execution_count": 9,
   "outputs": [
    {
     "name": "stdout",
     "output_type": "stream",
     "text": [
      "The text describes the new Toyota Land Cruiser 250, a 4x4 vehicle that combines luxury with ruggedness. The design is described as retro and reminiscent of earlier Land Cruiser models, with boxy surfacing, straight edges, and a purposeful look. The front end of the vehicle can be customized with either round or rectangular headlights. The Land Cruiser 250 is slightly smaller than the previous model but still offers off-road capabilities and towing ability. The interior is described as solid and masculine, with big buttons and physical controls. The car will be available in the UK and has a projected starting price of around £45,000. Overall, it is seen as a modern update to the Land Cruiser line.\n"
     ]
    }
   ],
   "source": [
    "from examples import youtube_summarizer\n",
    "with open(\"transcript.txt\", \"r\") as f:\n",
    "    transcript = f.read()\n",
    "\n",
    "    \n",
    "    \n",
    "youtube_summarizer.summarize_transcript(transcript)"
   ],
   "metadata": {
    "collapsed": false,
    "ExecuteTime": {
     "end_time": "2024-01-04T06:51:56.775096800Z",
     "start_time": "2024-01-04T06:51:49.722651900Z"
    }
   },
   "id": "7a0d05929051ab95"
  },
  {
   "cell_type": "markdown",
   "source": [
    "## Creating an Expert for Zelda BOTW"
   ],
   "metadata": {
    "collapsed": false
   },
   "id": "ab5432d3466c3f06"
  },
  {
   "cell_type": "markdown",
   "source": [
    "The idea is to use ChatGPT or GPT-4 models for information restitution, but not information retrieval: we do not expect the AI model to know the answer to the question. Rather, we ask it to formulate a well-thought answer based on text extracts we think could match the question.\n",
    "\n",
    "![alt text](dagc_0305-1.png \"The principle of a ChatGPT-like solution powered with your own data\")\n",
    "\n",
    "Three components:\n",
    "- An intent service \n",
    "    - detect the intent of the question\n",
    "    - detect whether the question from the user does not respect OpenAI’s policy, or perhaps contains sensitive information\n",
    "- An information retrieival service\n",
    "    - take the output from the intent service and retrieve the correct information\n",
    "- A response service\n",
    "    - take the output of the information retrieval service and generate from it an answer to the user’s question"
   ],
   "metadata": {
    "collapsed": false
   },
   "id": "a04a052b3ef3bc3f"
  },
  {
   "cell_type": "code",
   "execution_count": 9,
   "outputs": [
    {
     "name": "stdout",
     "output_type": "stream",
     "text": [
      "Index already exists\n",
      "Loaded 84 documents in Redis search index with name: embeddings-index\n",
      "Based on the facts provided, Bokoblins are a type of enemy found in the game. They can be encountered in enemy bases and can be dangerous if approached too closely or quickly. It is advisable to crouch down and sneak around them. Bokoblins can be found in different colors, with Blue and Silver Bokoblins being more powerful and having more health. They can be taken out using weapons such as arrows or bombs.\n"
     ]
    }
   ],
   "source": [
    "from examples.question_answering import main as question_answering\n",
    "\n",
    "question_answering.run(\"What are the Bokoblins?\", \"ExplorersGuide.pdf\")"
   ],
   "metadata": {
    "collapsed": false,
    "ExecuteTime": {
     "end_time": "2024-01-05T01:04:24.535368200Z",
     "start_time": "2024-01-05T01:04:07.948813600Z"
    }
   },
   "id": "2fe8dde75a7f9d4c"
  }
 ],
 "metadata": {
  "kernelspec": {
   "display_name": "Python 3",
   "language": "python",
   "name": "python3"
  },
  "language_info": {
   "codemirror_mode": {
    "name": "ipython",
    "version": 2
   },
   "file_extension": ".py",
   "mimetype": "text/x-python",
   "name": "python",
   "nbconvert_exporter": "python",
   "pygments_lexer": "ipython2",
   "version": "2.7.6"
  }
 },
 "nbformat": 4,
 "nbformat_minor": 5
}
